{
 "cells": [
  {
   "cell_type": "markdown",
   "source": [
    "## Little Lemeon - Meta Database Engineer Capstone Project \n"
   ],
   "metadata": {}
  },
  {
   "cell_type": "markdown",
   "source": [
    "## Prerequisites: \n",
    "\n",
    "Please run the **Prerequisites.ipynb** befor running this notebook\n"
   ],
   "metadata": {}
  },
  {
   "cell_type": "code",
   "execution_count": 1,
   "source": [
    "# Import the connector under the alias connector:\n",
    "import mysql.connector as connector"
   ],
   "outputs": [],
   "metadata": {}
  },
  {
   "cell_type": "code",
   "execution_count": 7,
   "source": [
    "# Create the connection\n",
    "connection = connector.connect(user = \"root\", password = \"\", database=\"little_lemon\")"
   ],
   "outputs": [],
   "metadata": {}
  },
  {
   "cell_type": "code",
   "execution_count": 8,
   "source": [
    "# create the cursor\n",
    "cursor=connection.cursor()\n",
    "\n"
   ],
   "outputs": [],
   "metadata": {}
  },
  {
   "cell_type": "code",
   "execution_count": 9,
   "source": [
    "# showing tables in the DB\n",
    "show_tables_query = \"SHOW tables\" \n",
    "cursor.execute(show_tables_query)\n",
    "results = cursor.fetchall()\n",
    "\n",
    "for table in results:\n",
    "    print(table)"
   ],
   "outputs": [
    {
     "output_type": "stream",
     "name": "stdout",
     "text": [
      "('Customers',)\n",
      "('Orders',)\n"
     ]
    }
   ],
   "metadata": {}
  },
  {
   "cell_type": "code",
   "execution_count": 11,
   "source": [
    "# customer join query\n",
    "customer_query = \"\"\"\n",
    "SELECT \n",
    "    c.FirstName AS FirstName,\n",
    "    c.LastName AS LastName,\n",
    "    c.Email AS Email,\n",
    "    c.PhoneNumber AS Phone,\n",
    "    c.Address AS Address,\n",
    "    c.Country AS Country,\n",
    "    c.City AS City,\n",
    "    o.TotalCost AS Cost\n",
    "FROM\n",
    "    Customers as c\n",
    "INNER JOIN Orders as o ON c.CustomerID = o.CustomerID\n",
    "WHERE o.TotalCost > 60\n",
    "ORDER BY o.TotalCost DESC;\n",
    "\"\"\"\n",
    "\n",
    "cursor.execute(customer_query)\n",
    "results = cursor.fetchall()\n",
    "\n",
    "print('Printing customers information who spent more than $60 ...')\n",
    "\n",
    "for customer in results:\n",
    "    print('=' * 50)\n",
    "    print(f'First Name: \\t {customer[0]}')\n",
    "    print(f'Laste Name: \\t {customer[1]}')\n",
    "    print(f'Email: \\t\\t {customer[2]}')\n",
    "    print(f'Phone Number: \\t {customer[3]}')\n",
    "    print(f'Address: \\t {customer[4]}')\n",
    "    print(f'Country: \\t {customer[5]}')\n",
    "    print(f'City: \\t\\t {customer[6]}')\n",
    "    print(f'Has spent: \\t {float(customer[7])}')"
   ],
   "outputs": [
    {
     "output_type": "stream",
     "name": "stdout",
     "text": [
      "Printing customers information who spent more than $60 ...\n",
      "==================================================\n",
      "First Name: \t John\n",
      "Laste Name: \t Doe\n",
      "Email: \t\t john.doe@example.com\n",
      "Phone Number: \t 1234567890\n",
      "Address: \t 123 Main St\n",
      "Country: \t USA\n",
      "City: \t\t New York\n",
      "Has spent: \t 100.0\n",
      "==================================================\n",
      "First Name: \t Jane\n",
      "Laste Name: \t Doe\n",
      "Email: \t\t jane.doe@example.com\n",
      "Phone Number: \t 0987654321\n",
      "Address: \t 456 Main St\n",
      "Country: \t USA\n",
      "City: \t\t Los Angeles\n",
      "Has spent: \t 100.0\n",
      "==================================================\n",
      "First Name: \t Alice\n",
      "Laste Name: \t Smith\n",
      "Email: \t\t alice.smith@example.com\n",
      "Phone Number: \t 1112223333\n",
      "Address: \t 789 Main St\n",
      "Country: \t USA\n",
      "City: \t\t Chicago\n",
      "Has spent: \t 100.0\n",
      "==================================================\n",
      "First Name: \t Bob\n",
      "Laste Name: \t Johnson\n",
      "Email: \t\t bob.johnson@example.com\n",
      "Phone Number: \t 4445556666\n",
      "Address: \t 321 Main St\n",
      "Country: \t USA\n",
      "City: \t\t Houston\n",
      "Has spent: \t 100.0\n",
      "==================================================\n",
      "First Name: \t Charlie\n",
      "Laste Name: \t Brown\n",
      "Email: \t\t charlie.brown@example.com\n",
      "Phone Number: \t 7778889999\n",
      "Address: \t 654 Main St\n",
      "Country: \t USA\n",
      "City: \t\t Philadelphia\n",
      "Has spent: \t 100.0\n",
      "==================================================\n",
      "First Name: \t David\n",
      "Laste Name: \t Williams\n",
      "Email: \t\t david.williams@example.com\n",
      "Phone Number: \t 0001112222\n",
      "Address: \t 987 Main St\n",
      "Country: \t USA\n",
      "City: \t\t Phoenix\n",
      "Has spent: \t 100.0\n",
      "==================================================\n",
      "First Name: \t Eve\n",
      "Laste Name: \t Jones\n",
      "Email: \t\t eve.jones@example.com\n",
      "Phone Number: \t 3334445555\n",
      "Address: \t 246 Main St\n",
      "Country: \t USA\n",
      "City: \t\t San Antonio\n",
      "Has spent: \t 100.0\n",
      "==================================================\n",
      "First Name: \t Frank\n",
      "Laste Name: \t Miller\n",
      "Email: \t\t frank.miller@example.com\n",
      "Phone Number: \t 6667778888\n",
      "Address: \t 135 Main St\n",
      "Country: \t USA\n",
      "City: \t\t San Diego\n",
      "Has spent: \t 100.0\n",
      "==================================================\n",
      "First Name: \t Grace\n",
      "Laste Name: \t Davis\n",
      "Email: \t\t grace.davis@example.com\n",
      "Phone Number: \t 9990001111\n",
      "Address: \t 864 Main St\n",
      "Country: \t USA\n",
      "City: \t\t Dallas\n",
      "Has spent: \t 100.0\n",
      "==================================================\n",
      "First Name: \t Henry\n",
      "Laste Name: \t Garcia\n",
      "Email: \t\t henry.garcia@example.com\n",
      "Phone Number: \t 2223334444\n",
      "Address: \t 753 Main St\n",
      "Country: \t USA\n",
      "City: \t\t San Jose\n",
      "Has spent: \t 100.0\n"
     ]
    }
   ],
   "metadata": {}
  }
 ],
 "metadata": {
  "kernelspec": {
   "name": "python3",
   "display_name": "Python 3.8.10 64-bit"
  },
  "language_info": {
   "codemirror_mode": {
    "name": "ipython",
    "version": 3
   },
   "file_extension": ".py",
   "mimetype": "text/x-python",
   "name": "python",
   "nbconvert_exporter": "python",
   "pygments_lexer": "ipython3",
   "version": "3.8.10"
  },
  "interpreter": {
   "hash": "31f2aee4e71d21fbe5cf8b01ff0e069b9275f58929596ceb00d14d90e3e16cd6"
  }
 },
 "nbformat": 4,
 "nbformat_minor": 4
}